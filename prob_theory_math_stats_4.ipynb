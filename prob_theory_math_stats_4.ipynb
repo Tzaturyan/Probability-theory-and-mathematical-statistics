{
 "cells": [
  {
   "cell_type": "markdown",
   "metadata": {},
   "source": [
    "## Непрерывные случайные величины. Функция распределения и плотность распределения вероятностей. Равномерное и нормальное распределение. Центральная предельная теорема"
   ]
  },
  {
   "cell_type": "code",
   "execution_count": 55,
   "metadata": {},
   "outputs": [],
   "source": [
    "from sympy import *\n",
    "from scipy.stats import norm\n",
    "import numpy as np"
   ]
  },
  {
   "cell_type": "markdown",
   "metadata": {},
   "source": [
    "### Случайная непрерывная величина A имеет равномерное распределение на промежутке (200, 800]. Найдите ее среднее значение и дисперсию."
   ]
  },
  {
   "cell_type": "markdown",
   "metadata": {},
   "source": [
    "$$ При~ равномерном~ распределении~ математическое~ ожидание~ находится~ по~ формуле~ M(X)~ = \\frac{a+b}{2}~$$"
   ]
  },
  {
   "cell_type": "markdown",
   "metadata": {},
   "source": [
    "$$ Дисперсю~ найдем~ по~ формуле~ D(X)~ = \\frac{(b-a)^{2}}{12} $$"
   ]
  },
  {
   "cell_type": "code",
   "execution_count": 9,
   "metadata": {},
   "outputs": [],
   "source": [
    "a = 200\n",
    "b = 800"
   ]
  },
  {
   "cell_type": "code",
   "execution_count": 10,
   "metadata": {},
   "outputs": [],
   "source": [
    "M = (a+b)/2"
   ]
  },
  {
   "cell_type": "code",
   "execution_count": 11,
   "metadata": {},
   "outputs": [],
   "source": [
    "D = (b-a)**2/12"
   ]
  },
  {
   "cell_type": "code",
   "execution_count": 13,
   "metadata": {},
   "outputs": [
    {
     "name": "stdout",
     "output_type": "stream",
     "text": [
      "Математическое ожидание равно - 500.0\n",
      "Дисперсия равна - 30000.0\n"
     ]
    }
   ],
   "source": [
    "print(f'Математическое ожидание равно - {M}')\n",
    "print(f'Дисперсия равна - {D}')"
   ]
  },
  {
   "cell_type": "markdown",
   "metadata": {},
   "source": [
    "### О случайной непрерывной равномерно распределенной величине B известно, что ее дисперсия равна 0.2. Можно ли найти правую границу величины B и ее среднее значение зная, что левая граница равна 0.5? Если да, найдите ее."
   ]
  },
  {
   "cell_type": "markdown",
   "metadata": {},
   "source": [
    "Найти правую границу величины B возможно, найдя неизвестную переменную из формулы нахождения дисперсии, решив уравнение 0.2 = (b - 0.5)**2/12"
   ]
  },
  {
   "cell_type": "code",
   "execution_count": 17,
   "metadata": {},
   "outputs": [],
   "source": [
    "b = Symbol('b')"
   ]
  },
  {
   "cell_type": "code",
   "execution_count": 18,
   "metadata": {},
   "outputs": [
    {
     "name": "stdout",
     "output_type": "stream",
     "text": [
      "[(-1.04919333848297,), (2.04919333848297,)]\n"
     ]
    }
   ],
   "source": [
    "solved_value=solve([(b-0.5)**2/12-0.2], [b])\n",
    "print(solved_value)"
   ]
  },
  {
   "cell_type": "markdown",
   "metadata": {},
   "source": [
    "$$ Правая~ граница~ величины~ B~ = 2.05 $$"
   ]
  },
  {
   "cell_type": "markdown",
   "metadata": {},
   "source": [
    "### Непрерывная случайная величина X распределена нормально и задана плотностью распределения f(x) = (1 / (4 * sqrt(2pi))) * exp((-(x+2)**2) / 32) Найдите: а). M(X) б). D(X) в). std(X) (среднее квадратичное отклонение)"
   ]
  },
  {
   "cell_type": "markdown",
   "metadata": {},
   "source": [
    "$$ Нормальное~ распределение~ —~ это~ распределение~ вероятностей~ непрерывной~ случайной~ величины~  X, ~плотность~ вероятности~ которой~ подчиняется~ формуле:~ f(x) = \\frac{1}{\\sigma\\sqrt{2\\Pi}}\\epsilon^{-\\frac{(x-a)^{2}}{2\\sigma^{2}}} $$"
   ]
  },
  {
   "cell_type": "markdown",
   "metadata": {},
   "source": [
    "Вытащим из формулы M(X), D(X), std(X)"
   ]
  },
  {
   "cell_type": "markdown",
   "metadata": {},
   "source": [
    " M(X) = a = -2"
   ]
  },
  {
   "cell_type": "markdown",
   "metadata": {},
   "source": [
    "D(X) = sigma^2 = 16"
   ]
  },
  {
   "cell_type": "markdown",
   "metadata": {},
   "source": [
    "std(X) = sigma = 4"
   ]
  },
  {
   "cell_type": "markdown",
   "metadata": {},
   "source": [
    "### Рост взрослого населения города X имеет нормальное распределение. Причем, средний рост равен 174 см, а среднее квадратичное отклонение равно 8 см. Какова вероятность того, что случайным образом выбранный взрослый человек имеет рост: а). больше 182 см б). больше 190 см в). от 166 см до 190 см г). от 166 см до 182 см д). от 158 см до 190 см е). не выше 150 см или не ниже 190 см ё). не выше 150 см или не ниже 198 см ж). ниже 166 см."
   ]
  },
  {
   "cell_type": "code",
   "execution_count": 40,
   "metadata": {},
   "outputs": [],
   "source": [
    "M = 174 #математическое ожидание\n",
    "S = 8 #среднее квадратичное отклонение"
   ]
  },
  {
   "cell_type": "markdown",
   "metadata": {},
   "source": [
    "Найдем вероятность того, что случайным образом выбранный взрослый человек имеет рост: больше 182 см"
   ]
  },
  {
   "cell_type": "markdown",
   "metadata": {},
   "source": [
    "(182-M)/S) - формула нормализации (нахождение колл-во сигм), далее вычтем из единицы расстояние от 174 до 182 и от 0 до 174"
   ]
  },
  {
   "cell_type": "code",
   "execution_count": 46,
   "metadata": {},
   "outputs": [
    {
     "data": {
      "text/plain": [
       "0.15865525393145707"
      ]
     },
     "execution_count": 46,
     "metadata": {},
     "output_type": "execute_result"
    }
   ],
   "source": [
    "P1 = 1-norm.cdf((182-M)/S) - norm.cdf((0-M)/S)\n",
    "P1"
   ]
  },
  {
   "cell_type": "code",
   "execution_count": 47,
   "metadata": {},
   "outputs": [],
   "source": [
    "P2 = 1-norm.cdf((190-M)/S) - norm.cdf((0-M)/S)"
   ]
  },
  {
   "cell_type": "code",
   "execution_count": 48,
   "metadata": {},
   "outputs": [],
   "source": [
    "P3 = norm.cdf((190-M)/S) - norm.cdf((166-M)/S)"
   ]
  },
  {
   "cell_type": "code",
   "execution_count": 49,
   "metadata": {},
   "outputs": [],
   "source": [
    "P4 = norm.cdf((182-M)/S) - norm.cdf((166 - M)/S)"
   ]
  },
  {
   "cell_type": "code",
   "execution_count": null,
   "metadata": {},
   "outputs": [],
   "source": [
    "P5 = norm.cdf((190-M)/S) - norm.cdf((158-M)/S)"
   ]
  },
  {
   "cell_type": "markdown",
   "metadata": {},
   "source": [
    "Далее сигмы будем прибавлять так как в условии оператор \"или\""
   ]
  },
  {
   "cell_type": "code",
   "execution_count": 51,
   "metadata": {},
   "outputs": [],
   "source": [
    "P6 = (1 - norm.cdf((190-M)/S) - norm.cdf((0-M)/S)) + (norm.cdf((150-M)/S) - norm.cdf((0-M)/S))"
   ]
  },
  {
   "cell_type": "code",
   "execution_count": 52,
   "metadata": {},
   "outputs": [],
   "source": [
    "P7 = (1 - norm.cdf((198-M)/S) - norm.cdf((0-M) / S)) + (norm.cdf((150-M)/S) - norm.cdf((0-M)/S))"
   ]
  },
  {
   "cell_type": "code",
   "execution_count": 53,
   "metadata": {},
   "outputs": [],
   "source": [
    "P8 = norm.cdf((166-M)/S) - norm.cdf((0-M)/S)"
   ]
  },
  {
   "cell_type": "code",
   "execution_count": 56,
   "metadata": {},
   "outputs": [
    {
     "name": "stdout",
     "output_type": "stream",
     "text": [
      "Вероятность того, что случайным образом выбранный взрослый человек имеет рост:\n",
      "больше 182 см: 0.1587\n",
      "больше 190 см: 0.0228\n",
      "от 166 см до 190 см: 0.8186\n",
      "от 166 см до 182 см: 0.6827\n",
      "от 158 см до 190 см: 0.9545\n",
      "не выше 150 см или не ниже 190 см: 0.0241\n",
      "не выше 150 см или не ниже 198 см: 0.0027\n",
      "ниже 166 см.: 0.1587\n"
     ]
    }
   ],
   "source": [
    "print('Вероятность того, что случайным образом выбранный взрослый человек имеет рост:')\n",
    "print(f'больше 182 см: {np.round(P1, 4)}')\n",
    "print(f'больше 190 см: {np.round(P2, 4)}')\n",
    "print(f'от 166 см до 190 см: {np.round(P3, 4)}')\n",
    "print(f'от 166 см до 182 см: {np.round(P4, 4)}')\n",
    "print(f'от 158 см до 190 см: {np.round(P5, 4)}')\n",
    "print(f'не выше 150 см или не ниже 190 см: {np.round(P6, 4)}')\n",
    "print(f'не выше 150 см или не ниже 198 см: {np.round(P7, 4)}')\n",
    "print(f'ниже 166 см.: {np.round(P8, 4)}')"
   ]
  },
  {
   "cell_type": "markdown",
   "metadata": {},
   "source": [
    "### На сколько сигм (средних квадратичных отклонений) отклоняется рост человека, равный 190 см, от математического ожидания роста в популяции, в которой M(X) = 178 см и D(X) = 25 кв.см?"
   ]
  },
  {
   "cell_type": "markdown",
   "metadata": {},
   "source": [
    "$$ Будем~ решать~ данную~ задачу~ исходя~ из~ формулы~ нормализации~ \\frac{b-a}{std} $$"
   ]
  },
  {
   "cell_type": "markdown",
   "metadata": {},
   "source": [
    "Среднее квадратичное отклонение равно sqrt(25)"
   ]
  },
  {
   "cell_type": "code",
   "execution_count": 22,
   "metadata": {},
   "outputs": [],
   "source": [
    "b = 190\n",
    "a = 178\n",
    "std = 5"
   ]
  },
  {
   "cell_type": "code",
   "execution_count": 25,
   "metadata": {},
   "outputs": [],
   "source": [
    "Z = (b-a)/5"
   ]
  },
  {
   "cell_type": "code",
   "execution_count": 26,
   "metadata": {},
   "outputs": [
    {
     "name": "stdout",
     "output_type": "stream",
     "text": [
      "Колл-во сигм на которые отклоняется рост человека с 190 см равно - 2.4\n"
     ]
    }
   ],
   "source": [
    "print(f'Колл-во сигм на которые отклоняется рост человека с 190 см равно - {Z}')"
   ]
  }
 ],
 "metadata": {
  "kernelspec": {
   "display_name": "Python 3",
   "language": "python",
   "name": "python3"
  },
  "language_info": {
   "codemirror_mode": {
    "name": "ipython",
    "version": 3
   },
   "file_extension": ".py",
   "mimetype": "text/x-python",
   "name": "python",
   "nbconvert_exporter": "python",
   "pygments_lexer": "ipython3",
   "version": "3.7.6"
  }
 },
 "nbformat": 4,
 "nbformat_minor": 4
}
