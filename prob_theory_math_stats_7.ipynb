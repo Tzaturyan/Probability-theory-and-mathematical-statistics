{
 "cells": [
  {
   "cell_type": "markdown",
   "metadata": {},
   "source": [
    "## Многомерный статистический анализ. Линейная регрессия"
   ]
  },
  {
   "cell_type": "markdown",
   "metadata": {},
   "source": [
    "### Даны значения величины заработной платы заемщиков банка (zp) и значения их поведенческого кредитного скоринга (ks): zp = [35, 45, 190, 200, 40, 70, 54, 150, 120, 110], ks = [401, 574, 874, 919, 459, 739, 653, 902, 746, 832]. Используя математические операции, посчитать коэффициенты линейной регрессии, приняв за X заработную плату (то есть, zp - признак), а за y - значения скорингового балла (то есть, ks - целевая переменная). Произвести расчет как с использованием intercept, так и без."
   ]
  },
  {
   "cell_type": "code",
   "execution_count": 1,
   "metadata": {},
   "outputs": [],
   "source": [
    "import numpy as np\n",
    "import pandas as pd\n",
    "import matplotlib.pyplot as plt\n",
    "from scipy import stats\n",
    "%matplotlib inline"
   ]
  },
  {
   "cell_type": "code",
   "execution_count": 2,
   "metadata": {},
   "outputs": [],
   "source": [
    "X = np.array([35, 45, 190, 200, 40, 70, 54, 150, 120, 110])\n",
    "y = np.array([401, 574, 874, 919, 459, 739, 653, 902, 746, 832])"
   ]
  },
  {
   "cell_type": "code",
   "execution_count": 3,
   "metadata": {},
   "outputs": [
    {
     "data": {
      "text/plain": [
       "10"
      ]
     },
     "execution_count": 3,
     "metadata": {},
     "output_type": "execute_result"
    }
   ],
   "source": [
    "n = len(X)\n",
    "n"
   ]
  },
  {
   "cell_type": "markdown",
   "metadata": {},
   "source": [
    "Найдем коэффициенты линейной регрессии a и b"
   ]
  },
  {
   "cell_type": "markdown",
   "metadata": {},
   "source": [
    "a - это intercept, значение y при x = 0;   \n",
    "b - каким образом изменяется зависимая переменная."
   ]
  },
  {
   "cell_type": "markdown",
   "metadata": {},
   "source": [
    "$$ Сперва~ найдем~ коэффициент~ b~ по~ формуле~ \\frac{\\bar{yx}-\\bar{y}*\\bar{x}}{\\bar{x^{2}}-(\\bar{x})^{2}} $$"
   ]
  },
  {
   "cell_type": "code",
   "execution_count": 4,
   "metadata": {},
   "outputs": [
    {
     "data": {
      "text/plain": [
       "2.620538882402765"
      ]
     },
     "execution_count": 4,
     "metadata": {},
     "output_type": "execute_result"
    }
   ],
   "source": [
    "b = (np.mean(X*y)-np.mean(X)*np.mean(y))/(np.mean(X**2)-np.mean(X)** 2)\n",
    "b"
   ]
  },
  {
   "cell_type": "markdown",
   "metadata": {},
   "source": [
    "$$ Найдем~ второй~ коэффициент~ a~ по~ формуле~ \\bar{y}-b*\\bar{x} $$"
   ]
  },
  {
   "cell_type": "code",
   "execution_count": 6,
   "metadata": {},
   "outputs": [
    {
     "data": {
      "text/plain": [
       "444.1773573243596"
      ]
     },
     "execution_count": 6,
     "metadata": {},
     "output_type": "execute_result"
    }
   ],
   "source": [
    "a = np.mean(y) - b * np.mean(X)\n",
    "a"
   ]
  },
  {
   "cell_type": "markdown",
   "metadata": {},
   "source": [
    "$$ Теперь~ найдем~ коэффициент~ b~ без~ коэффициента~ a~ с~ использованием~ матричного~ метода~ поиска~ коэффициентов~ по~ формуле~\\hat{B}=(X^{T}*X)^{-1}*X^{T}*Y $$ "
   ]
  },
  {
   "cell_type": "markdown",
   "metadata": {},
   "source": [
    "Для этого переведем переменные в матрицы"
   ]
  },
  {
   "cell_type": "code",
   "execution_count": 7,
   "metadata": {},
   "outputs": [
    {
     "data": {
      "text/plain": [
       "array([[ 35],\n",
       "       [ 45],\n",
       "       [190],\n",
       "       [200],\n",
       "       [ 40],\n",
       "       [ 70],\n",
       "       [ 54],\n",
       "       [150],\n",
       "       [120],\n",
       "       [110]])"
      ]
     },
     "execution_count": 7,
     "metadata": {},
     "output_type": "execute_result"
    }
   ],
   "source": [
    "X=X.reshape((10,1))\n",
    "X"
   ]
  },
  {
   "cell_type": "code",
   "execution_count": 8,
   "metadata": {},
   "outputs": [
    {
     "data": {
      "text/plain": [
       "array([[401],\n",
       "       [574],\n",
       "       [874],\n",
       "       [919],\n",
       "       [459],\n",
       "       [739],\n",
       "       [653],\n",
       "       [902],\n",
       "       [746],\n",
       "       [832]])"
      ]
     },
     "execution_count": 8,
     "metadata": {},
     "output_type": "execute_result"
    }
   ],
   "source": [
    "y=y.reshape((10,1))\n",
    "y"
   ]
  },
  {
   "cell_type": "code",
   "execution_count": 10,
   "metadata": {},
   "outputs": [
    {
     "data": {
      "text/plain": [
       "array([[5.88982042]])"
      ]
     },
     "execution_count": 10,
     "metadata": {},
     "output_type": "execute_result"
    }
   ],
   "source": [
    "B = np.dot(np.linalg.inv(np.dot(X.T,X)),X.T@y)\n",
    "B"
   ]
  },
  {
   "cell_type": "markdown",
   "metadata": {},
   "source": [
    "Далее найдем кэффициенты a и b с помощью матричного метода, добавив интерсепт в матрицу X"
   ]
  },
  {
   "cell_type": "code",
   "execution_count": 11,
   "metadata": {},
   "outputs": [
    {
     "data": {
      "text/plain": [
       "array([[  1.,  35.],\n",
       "       [  1.,  45.],\n",
       "       [  1., 190.],\n",
       "       [  1., 200.],\n",
       "       [  1.,  40.],\n",
       "       [  1.,  70.],\n",
       "       [  1.,  54.],\n",
       "       [  1., 150.],\n",
       "       [  1., 120.],\n",
       "       [  1., 110.]])"
      ]
     },
     "execution_count": 11,
     "metadata": {},
     "output_type": "execute_result"
    }
   ],
   "source": [
    "X = np.hstack([np.ones((10,1)),X])\n",
    "X"
   ]
  },
  {
   "cell_type": "code",
   "execution_count": 12,
   "metadata": {},
   "outputs": [
    {
     "data": {
      "text/plain": [
       "array([[444.17735732],\n",
       "       [  2.62053888]])"
      ]
     },
     "execution_count": 12,
     "metadata": {},
     "output_type": "execute_result"
    }
   ],
   "source": [
    "B = np.dot(np.linalg.inv(np.dot(X.T,X)),X.T@y)\n",
    "B"
   ]
  },
  {
   "cell_type": "markdown",
   "metadata": {},
   "source": [
    "### Посчитать коэффициент линейной регрессии при заработной плате (zp), используя градиентный спуск (без intercept)"
   ]
  },
  {
   "cell_type": "code",
   "execution_count": 13,
   "metadata": {},
   "outputs": [],
   "source": [
    "X = np.array([35, 45, 190, 200, 40, 70, 54, 150, 120, 110])\n",
    "y = np.array([401, 574, 874, 919, 459, 739, 653, 902, 746, 832])"
   ]
  },
  {
   "cell_type": "markdown",
   "metadata": {},
   "source": [
    "Запишем функцию для средней квадратичной ошибки чтобы потом проверить результат"
   ]
  },
  {
   "cell_type": "code",
   "execution_count": 14,
   "metadata": {},
   "outputs": [],
   "source": [
    "def mse_(B1, y=y, X=X, n=10):\n",
    "    return np.sum((B1*X-y)**2)/n"
   ]
  },
  {
   "cell_type": "code",
   "execution_count": 15,
   "metadata": {},
   "outputs": [],
   "source": [
    "B1 = 0.1 # стартовое значение из нормального стандартного распределения"
   ]
  },
  {
   "cell_type": "code",
   "execution_count": 17,
   "metadata": {},
   "outputs": [
    {
     "data": {
      "text/plain": [
       "1e-06"
      ]
     },
     "execution_count": 17,
     "metadata": {},
     "output_type": "execute_result"
    }
   ],
   "source": [
    "alpha = 1e-6 # скорость обучения\n",
    "alpha"
   ]
  },
  {
   "cell_type": "code",
   "execution_count": 18,
   "metadata": {},
   "outputs": [],
   "source": [
    "n = 10"
   ]
  },
  {
   "cell_type": "code",
   "execution_count": 20,
   "metadata": {},
   "outputs": [
    {
     "name": "stdout",
     "output_type": "stream",
     "text": [
      "Iteration: 0, B1=0.25952808, mse=493237.7212546963\n",
      "Iteration: 5000, B1=5.889820420132673, mse=56516.85841571943\n"
     ]
    }
   ],
   "source": [
    "for i in range(10000): # колл-во итераций\n",
    "    B1 -=alpha*(2/n)*np.sum((B1*X-y)*X) # производная средней квадратичной ошибки\n",
    "    if i%5000 == 0: # выводим каждую пятитысечную итерацию, в нашем случае выведется две\n",
    "        print(\"Iteration: {i}, B1={B1}, mse={mse}\".format(i=i,B1=B1,mse=mse_(B1)))"
   ]
  },
  {
   "cell_type": "markdown",
   "metadata": {},
   "source": [
    "##  Произвести вычисления как в пункте 2, но с вычислением intercept. Учесть, что изменение коэффициентов должно производиться на каждом шаге одновременно (то есть изменение одного коэффициента не должно влиять на изменение другого во время одной итерации)"
   ]
  },
  {
   "cell_type": "code",
   "execution_count": 22,
   "metadata": {},
   "outputs": [],
   "source": [
    "B1 = 0.1 # стартовое значение из нормального стандартного распределения"
   ]
  },
  {
   "cell_type": "code",
   "execution_count": 23,
   "metadata": {},
   "outputs": [],
   "source": [
    "B0 = 0.1 # стартовое значение из нормального стандартного распределения"
   ]
  },
  {
   "cell_type": "code",
   "execution_count": 24,
   "metadata": {},
   "outputs": [
    {
     "data": {
      "text/plain": [
       "5e-05"
      ]
     },
     "execution_count": 24,
     "metadata": {},
     "output_type": "execute_result"
    }
   ],
   "source": [
    "alpha = 5e-5 # скорость обучения\n",
    "alpha "
   ]
  },
  {
   "cell_type": "code",
   "execution_count": 27,
   "metadata": {},
   "outputs": [],
   "source": [
    "def mse_(B0, B1, y=y, X=X, n=10):\n",
    "    return np.sum((B0+B1*X-y)**2)/n"
   ]
  },
  {
   "cell_type": "code",
   "execution_count": 29,
   "metadata": {},
   "outputs": [
    {
     "name": "stdout",
     "output_type": "stream",
     "text": [
      "Iteration: 0, B1=8.07539, B0=0.169966, mse=122360.8044853729\n",
      "Iteration: 30000, B1=4.147499177901624, B0=236.72238797814268, mse=17387.534091270718\n",
      "Iteration: 60000, B1=3.333959481314144, B0=347.251033231717, mse=8853.523054754403\n",
      "Iteration: 90000, B1=2.9538605492800123, B0=398.89180773391786, mse=6990.625380056672\n",
      "Iteration: 120000, B1=2.7762721676196023, B0=423.0192145710213, mse=6583.971611794087\n",
      "Iteration: 150000, B1=2.6932999973691483, B0=434.2919301004539, mse=6495.202760188238\n",
      "Iteration: 180000, B1=2.654534054621566, B0=439.55872550311335, mse=6475.825320138674\n",
      "Iteration: 210000, B1=2.636421977854534, B0=442.01945767904283, mse=6471.595399664535\n",
      "Iteration: 240000, B1=2.6279597220298276, B0=443.1691516349953, mse=6470.672046157995\n",
      "Iteration: 270000, B1=2.6240060189529295, B0=443.7063072853679, mse=6470.4704864115965\n",
      "Iteration: 300000, B1=2.6221587847940984, B0=443.9572751113981, mse=6470.426487736031\n",
      "Iteration: 330000, B1=2.6212957270552315, B0=444.07453134739086, mse=6470.416883221804\n",
      "Iteration: 360000, B1=2.6208924924912536, B0=444.1293153613275, mse=6470.414786642939\n",
      "Iteration: 390000, B1=2.6207040947673956, B0=444.15491134057004, mse=6470.41432897867\n",
      "Iteration: 420000, B1=2.6206160722972642, B0=444.1668701969311, mse=6470.414229074688\n",
      "Iteration: 450000, B1=2.6205749467725648, B0=444.1724575684503, mse=6470.414207266549\n",
      "Iteration: 480000, B1=2.6205557322608786, B0=444.1750680789819, mse=6470.414202506026\n",
      "Iteration: 510000, B1=2.6205467549295762, B0=444.1762877518153, mse=6470.41420146685\n",
      "Iteration: 540000, B1=2.620542560574902, B0=444.17685760272957, mse=6470.4142012400025\n",
      "Iteration: 570000, B1=2.6205406009044263, B0=444.1771238463115, mse=6470.414201190486\n",
      "Iteration: 600000, B1=2.6205396853146192, B0=444.177248239628, mse=6470.414201179677\n",
      "Iteration: 630000, B1=2.6205392575361834, B0=444.17730635820675, mse=6470.41420117732\n",
      "Iteration: 660000, B1=2.620539057671185, B0=444.17733351214605, mse=6470.4142011768035\n",
      "Iteration: 690000, B1=2.620538964291002, B0=444.1773461989089, mse=6470.414201176691\n",
      "Iteration: 720000, B1=2.620538920662281, B0=444.17735212636813, mse=6470.414201176669\n"
     ]
    }
   ],
   "source": [
    "for i in range(750000):\n",
    "    y_pred = B0+B1*X\n",
    "    B0 -=alpha*(2/n)*np.sum((y_pred-y))\n",
    "    B1 -=alpha*(2/n)*np.sum((y_pred-y)*X)\n",
    "    if i%30000==0:\n",
    "        print(\"Iteration: {i}, B1={B1}, B0={B0}, mse={mse}\".format(i=i,B0=B0,B1=B1,mse=mse_(B0,B1)))"
   ]
  },
  {
   "cell_type": "markdown",
   "metadata": {},
   "source": [
    "Скорость обучения и колл-во итераций подбираются таким образом что бы разница последних итераций была как можно меньше"
   ]
  }
 ],
 "metadata": {
  "kernelspec": {
   "display_name": "Python 3",
   "language": "python",
   "name": "python3"
  },
  "language_info": {
   "codemirror_mode": {
    "name": "ipython",
    "version": 3
   },
   "file_extension": ".py",
   "mimetype": "text/x-python",
   "name": "python",
   "nbconvert_exporter": "python",
   "pygments_lexer": "ipython3",
   "version": "3.7.6"
  }
 },
 "nbformat": 4,
 "nbformat_minor": 4
}
